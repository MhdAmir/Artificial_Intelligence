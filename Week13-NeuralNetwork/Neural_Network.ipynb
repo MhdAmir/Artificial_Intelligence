{
  "nbformat": 4,
  "nbformat_minor": 0,
  "metadata": {
    "colab": {
      "provenance": []
    },
    "kernelspec": {
      "name": "python3",
      "display_name": "Python 3"
    },
    "language_info": {
      "name": "python"
    }
  },
  "cells": [
    {
      "cell_type": "code",
      "execution_count": null,
      "metadata": {
        "id": "_zEDhzD681MT"
      },
      "outputs": [],
      "source": [
        "import pandas as pd\n",
        "from sklearn.linear_model import Perceptron"
      ]
    },
    {
      "cell_type": "code",
      "source": [
        "dataset = pd.read_csv('AND.csv')\n",
        "data = dataset.iloc[:,0:-1]\n",
        "label = dataset.iloc[:,-1]\n",
        "\n",
        "clf = Perceptron(tol=1e-3, shuffle=False, max_iter=1000, eta0=0.01)\n",
        "clf.fit(data,label)\n",
        "\n",
        "print(clf.score(data,label))\n",
        "print(clf.predict(data))"
      ],
      "metadata": {
        "colab": {
          "base_uri": "https://localhost:8080/"
        },
        "id": "UGxGsW0l9BNQ",
        "outputId": "338b4f4b-c916-4786-b9b6-a9d473484e6d"
      },
      "execution_count": null,
      "outputs": [
        {
          "output_type": "stream",
          "name": "stdout",
          "text": [
            "1.0\n",
            "[0 0 0 1]\n"
          ]
        }
      ]
    },
    {
      "cell_type": "code",
      "source": [
        "dataset = pd.read_csv('AND_NOT.csv')\n",
        "data = dataset.iloc[:,0:-1]\n",
        "label = dataset.iloc[:,-1]\n",
        "\n",
        "clf = Perceptron(tol=1e-3, shuffle=False, max_iter=1000, eta0=0.01)\n",
        "clf.fit(data,label)\n",
        "\n",
        "print(clf.score(data,label))\n",
        "print(clf.predict(data))"
      ],
      "metadata": {
        "colab": {
          "base_uri": "https://localhost:8080/"
        },
        "id": "IEdamsJhDpCt",
        "outputId": "84a612d5-47c5-4692-a290-e86667bcc33f"
      },
      "execution_count": null,
      "outputs": [
        {
          "output_type": "stream",
          "name": "stdout",
          "text": [
            "1.0\n",
            "[0 0 1 0]\n"
          ]
        }
      ]
    },
    {
      "cell_type": "code",
      "source": [
        "dataset = pd.read_csv('OR.csv')\n",
        "data = dataset.iloc[:,0:-1]\n",
        "label = dataset.iloc[:,-1]\n",
        "\n",
        "clf = Perceptron(tol=1e-3, shuffle=False, max_iter=1000, eta0=0.01)\n",
        "clf.fit(data,label)\n",
        "\n",
        "print(clf.score(data,label))\n",
        "print(clf.predict(data))"
      ],
      "metadata": {
        "colab": {
          "base_uri": "https://localhost:8080/"
        },
        "id": "eZXr7P1FDo4v",
        "outputId": "0e7da89b-3534-4ec0-9343-030d1025034b"
      },
      "execution_count": null,
      "outputs": [
        {
          "output_type": "stream",
          "name": "stdout",
          "text": [
            "1.0\n",
            "[0 1 1 1]\n"
          ]
        }
      ]
    },
    {
      "cell_type": "code",
      "source": [
        "dataset = pd.read_csv('Angka.csv')\n",
        "data = dataset.iloc[:,0:-1]\n",
        "label = dataset.iloc[:,-1]\n",
        "\n",
        "clf = Perceptron(tol=1e-3, shuffle=False, max_iter=1000, eta0=0.01)\n",
        "clf.fit(data,label)\n",
        "\n",
        "print(clf.score(data,label))\n",
        "print(clf.predict(data))"
      ],
      "metadata": {
        "colab": {
          "base_uri": "https://localhost:8080/"
        },
        "id": "RkWazMVBDoxh",
        "outputId": "1441d3e9-c03e-4b0c-f248-efc838568acc"
      },
      "execution_count": null,
      "outputs": [
        {
          "output_type": "stream",
          "name": "stdout",
          "text": [
            "0.475\n",
            "[0 0 9 9 8 9 8 0 1 1 9 1 1 1 9 1 9 2 9 2 9 9 8 8 3 3 9 9 3 9 9 9 4 9 4 9 9\n",
            " 4 9 9 9 9 9 5 9 5 9 8 6 6 9 9 9 6 8 9 7 7 7 9 7 9 7 7 8 8 9 9 9 9 9 9 9 9\n",
            " 9 9 9 9 9 9]\n"
          ]
        }
      ]
    },
    {
      "cell_type": "code",
      "source": [
        "dataset = pd.read_csv('XOR.csv')\n",
        "data = dataset.iloc[:,0:-1]\n",
        "label = dataset.iloc[:,-1]\n",
        "\n",
        "clf = Perceptron(tol=1e-3, shuffle=False, max_iter=1000, eta0=0.01)\n",
        "clf.fit(data,label)\n",
        "\n",
        "print(clf.score(data,label))\n",
        "print(clf.predict(data))"
      ],
      "metadata": {
        "colab": {
          "base_uri": "https://localhost:8080/"
        },
        "id": "lVWTvMRbDonQ",
        "outputId": "8a1881b6-b2ae-406b-e534-41c69154163f"
      },
      "execution_count": null,
      "outputs": [
        {
          "output_type": "stream",
          "name": "stdout",
          "text": [
            "0.5\n",
            "[0 0 0 0]\n"
          ]
        }
      ]
    },
    {
      "cell_type": "markdown",
      "source": [
        "##MultiLayer Perceptron"
      ],
      "metadata": {
        "id": "d4nNkbyuHwPd"
      }
    },
    {
      "cell_type": "code",
      "source": [
        "from sklearn.neural_network import MLPClassifier as MLP"
      ],
      "metadata": {
        "id": "Bw-avDTjIBMM"
      },
      "execution_count": null,
      "outputs": []
    },
    {
      "cell_type": "code",
      "source": [
        "import pandas as pd\n",
        "from sklearn.neural_network import MLPClassifier\n",
        "from sklearn.preprocessing import StandardScaler\n",
        "\n",
        "dataset = pd.read_csv('Angka.csv')\n",
        "\n",
        "data = dataset.iloc[:, 0:-1]\n",
        "label = dataset.iloc[:, -1]\n",
        "\n",
        "scaler = StandardScaler()\n",
        "data = scaler.fit_transform(data)\n",
        "\n",
        "model = MLPClassifier(hidden_layer_sizes=(10), max_iter=10000, activation='relu', learning_rate_init=0.01)\n",
        "\n",
        "model.fit(data, label)\n",
        "\n",
        "score = model.score(data, label)\n",
        "predictions = model.predict(data)\n",
        "\n",
        "print('Score:', score)\n",
        "print('Predictions:', predictions)\n",
        "print('Expected:', label.values)\n"
      ],
      "metadata": {
        "colab": {
          "base_uri": "https://localhost:8080/"
        },
        "id": "xva8g8jnHyr4",
        "outputId": "97fe9e1a-7e88-4779-a927-3c0da455dd9c"
      },
      "execution_count": null,
      "outputs": [
        {
          "output_type": "stream",
          "name": "stdout",
          "text": [
            "Score: 1.0\n",
            "Predictions: [0 0 0 0 0 0 0 0 1 1 1 1 1 1 1 1 2 2 2 2 2 2 2 2 3 3 3 3 3 3 3 3 4 4 4 4 4\n",
            " 4 4 4 5 5 5 5 5 5 5 5 6 6 6 6 6 6 6 6 7 7 7 7 7 7 7 7 8 8 8 8 8 8 8 8 9 9\n",
            " 9 9 9 9 9 9]\n",
            "Expected: [0 0 0 0 0 0 0 0 1 1 1 1 1 1 1 1 2 2 2 2 2 2 2 2 3 3 3 3 3 3 3 3 4 4 4 4 4\n",
            " 4 4 4 5 5 5 5 5 5 5 5 6 6 6 6 6 6 6 6 7 7 7 7 7 7 7 7 8 8 8 8 8 8 8 8 9 9\n",
            " 9 9 9 9 9 9]\n"
          ]
        }
      ]
    },
    {
      "cell_type": "code",
      "source": [
        "from sklearn.model_selection import GridSearchCV\n",
        "\n",
        "parameter_space = {\n",
        "    'hidden_layer_sizes': [(1,), (5), (5, 10), (10)],\n",
        "    'activation': ['tanh', 'relu'],\n",
        "    'solver': ['sgd', 'adam'],\n",
        "    'learning_rate_init': [0.001, 0.01, 0.1]\n",
        "}\n",
        "\n",
        "mlp = MLPClassifier(max_iter=10000)\n",
        "\n",
        "clf = GridSearchCV(mlp, parameter_space, n_jobs=-1, cv=3)\n",
        "\n",
        "clf.fit(data, label)\n",
        "\n",
        "print('Best parameters found:\\n', clf.best_params_)\n",
        "print('Best score found:\\n', clf.best_score_)\n"
      ],
      "metadata": {
        "colab": {
          "base_uri": "https://localhost:8080/"
        },
        "id": "zFMG7pZeMMqJ",
        "outputId": "52aad70b-0ee1-479e-e732-1ee7ca7c70bb"
      },
      "execution_count": null,
      "outputs": [
        {
          "output_type": "stream",
          "name": "stdout",
          "text": [
            "Best parameters found:\n",
            " {'activation': 'relu', 'hidden_layer_sizes': 5, 'learning_rate_init': 0.001, 'solver': 'sgd'}\n",
            "Best score found:\n",
            " 0.3138651471984805\n"
          ]
        }
      ]
    }
  ]
}