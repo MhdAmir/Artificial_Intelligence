{
  "nbformat": 4,
  "nbformat_minor": 0,
  "metadata": {
    "colab": {
      "provenance": []
    },
    "kernelspec": {
      "name": "python3",
      "display_name": "Python 3"
    },
    "language_info": {
      "name": "python"
    }
  },
  "cells": [
    {
      "cell_type": "code",
      "execution_count": null,
      "metadata": {
        "id": "WhM47dzr3zSu"
      },
      "outputs": [],
      "source": [
        "import pandas as pd\n",
        "import numpy as np"
      ]
    },
    {
      "cell_type": "markdown",
      "source": [
        "## Pengambilan Data Training"
      ],
      "metadata": {
        "id": "kutrg5sW4xYj"
      }
    },
    {
      "cell_type": "code",
      "source": [
        "dataset_train = pd.read_csv('milk_training.csv')\n",
        "train_data = np.array(dataset_train)[:,:-1]\n",
        "print(train_data)\n",
        "train_label = np.array(dataset_train)[:,-1]\n",
        "print(train_label)"
      ],
      "metadata": {
        "colab": {
          "base_uri": "https://localhost:8080/"
        },
        "id": "rCfxoNyW4zLV",
        "outputId": "9b062ae4-0882-484e-ddc1-e1a17dd92165"
      },
      "execution_count": null,
      "outputs": [
        {
          "output_type": "stream",
          "name": "stdout",
          "text": [
            "[[6.6 35 1 ... 1 0 254]\n",
            " [6.6 36 0 ... 0 1 253]\n",
            " [6.6 37 1 ... 1 1 255]\n",
            " ...\n",
            " [6.7 41 1 ... 0 0 247]\n",
            " [6.8 41 0 ... 0 0 255]\n",
            " [6.8 38 0 ... 0 0 255]]\n",
            "['high' 'high' 'high' 'high' 'high' 'high' 'high' 'high' 'high' 'high'\n",
            " 'high' 'high' 'high' 'high' 'high' 'high' 'high' 'high' 'high' 'high'\n",
            " 'high' 'high' 'high' 'high' 'high' 'high' 'high' 'high' 'high' 'high'\n",
            " 'high' 'high' 'high' 'high' 'high' 'high' 'high' 'high' 'high' 'high'\n",
            " 'high' 'high' 'high' 'high' 'high' 'high' 'high' 'high' 'high' 'high'\n",
            " 'high' 'high' 'high' 'high' 'high' 'high' 'high' 'high' 'high' 'high'\n",
            " 'high' 'high' 'high' 'high' 'high' 'high' 'high' 'high' 'high' 'high'\n",
            " 'high' 'high' 'high' 'high' 'high' 'high' 'high' 'high' 'high' 'high'\n",
            " 'high' 'high' 'high' 'high' 'high' 'high' 'high' 'high' 'high' 'high'\n",
            " 'high' 'high' 'high' 'high' 'high' 'high' 'high' 'high' 'high' 'high'\n",
            " 'high' 'high' 'high' 'high' 'high' 'high' 'high' 'high' 'high' 'high'\n",
            " 'high' 'high' 'high' 'high' 'high' 'high' 'high' 'high' 'high' 'high'\n",
            " 'high' 'high' 'high' 'high' 'high' 'high' 'high' 'high' 'high' 'high'\n",
            " 'high' 'high' 'high' 'high' 'high' 'high' 'high' 'high' 'high' 'high'\n",
            " 'high' 'high' 'high' 'high' 'high' 'high' 'high' 'high' 'high' 'high'\n",
            " 'high' 'high' 'high' 'high' 'high' 'high' 'high' 'high' 'high' 'high'\n",
            " 'high' 'high' 'high' 'high' 'high' 'high' 'high' 'high' 'high' 'high'\n",
            " 'high' 'high' 'high' 'high' 'high' 'high' 'high' 'high' 'high' 'low'\n",
            " 'low' 'low' 'low' 'low' 'low' 'low' 'low' 'low' 'low' 'low' 'low' 'low'\n",
            " 'low' 'low' 'low' 'low' 'low' 'low' 'low' 'low' 'low' 'low' 'low' 'low'\n",
            " 'low' 'low' 'low' 'low' 'low' 'low' 'low' 'low' 'low' 'low' 'low' 'low'\n",
            " 'low' 'low' 'low' 'low' 'low' 'low' 'low' 'low' 'low' 'low' 'low' 'low'\n",
            " 'low' 'low' 'low' 'low' 'low' 'low' 'low' 'low' 'low' 'low' 'low' 'low'\n",
            " 'low' 'low' 'low' 'low' 'low' 'low' 'low' 'low' 'low' 'low' 'low' 'low'\n",
            " 'low' 'low' 'low' 'low' 'low' 'low' 'low' 'low' 'low' 'low' 'low' 'low'\n",
            " 'low' 'low' 'low' 'low' 'low' 'low' 'low' 'low' 'low' 'low' 'low' 'low'\n",
            " 'low' 'low' 'low' 'low' 'low' 'low' 'low' 'low' 'low' 'low' 'low' 'low'\n",
            " 'low' 'low' 'low' 'low' 'low' 'low' 'low' 'low' 'low' 'low' 'low' 'low'\n",
            " 'low' 'low' 'low' 'low' 'low' 'low' 'low' 'low' 'low' 'low' 'low' 'low'\n",
            " 'low' 'low' 'low' 'low' 'low' 'low' 'low' 'low' 'low' 'low' 'low' 'low'\n",
            " 'low' 'low' 'low' 'low' 'low' 'low' 'low' 'low' 'low' 'low' 'low' 'low'\n",
            " 'low' 'low' 'low' 'low' 'low' 'low' 'low' 'low' 'low' 'low' 'low' 'low'\n",
            " 'low' 'low' 'low' 'low' 'low' 'low' 'low' 'low' 'low' 'low' 'low' 'low'\n",
            " 'low' 'low' 'low' 'low' 'low' 'low' 'low' 'low' 'low' 'low' 'low' 'low'\n",
            " 'low' 'low' 'low' 'low' 'low' 'low' 'low' 'low' 'low' 'low' 'low' 'low'\n",
            " 'low' 'low' 'low' 'low' 'low' 'low' 'low' 'low' 'low' 'low' 'low' 'low'\n",
            " 'low' 'low' 'low' 'low' 'low' 'low' 'low' 'low' 'low' 'low' 'low' 'low'\n",
            " 'low' 'low' 'low' 'low' 'low' 'low' 'low' 'low' 'low' 'low' 'low' 'low'\n",
            " 'low' 'low' 'low' 'low' 'low' 'low' 'low' 'low' 'low' 'low' 'low' 'low'\n",
            " 'low' 'low' 'low' 'low' 'low' 'low' 'low' 'low' 'low' 'low' 'low' 'low'\n",
            " 'low' 'low' 'low' 'low' 'low' 'low' 'low' 'low' 'low' 'low' 'low' 'low'\n",
            " 'low' 'low' 'low' 'low' 'low' 'low' 'low' 'low' 'low' 'low' 'low' 'low'\n",
            " 'low' 'low' 'low' 'low' 'low' 'low' 'low' 'low' 'low' 'low' 'low'\n",
            " 'medium' 'medium' 'medium' 'medium' 'medium' 'medium' 'medium' 'medium'\n",
            " 'medium' 'medium' 'medium' 'medium' 'medium' 'medium' 'medium' 'medium'\n",
            " 'medium' 'medium' 'medium' 'medium' 'medium' 'medium' 'medium' 'medium'\n",
            " 'medium' 'medium' 'medium' 'medium' 'medium' 'medium' 'medium' 'medium'\n",
            " 'medium' 'medium' 'medium' 'medium' 'medium' 'medium' 'medium' 'medium'\n",
            " 'medium' 'medium' 'medium' 'medium' 'medium' 'medium' 'medium' 'medium'\n",
            " 'medium' 'medium' 'medium' 'medium' 'medium' 'medium' 'medium' 'medium'\n",
            " 'medium' 'medium' 'medium' 'medium' 'medium' 'medium' 'medium' 'medium'\n",
            " 'medium' 'medium' 'medium' 'medium' 'medium' 'medium' 'medium' 'medium'\n",
            " 'medium' 'medium' 'medium' 'medium' 'medium' 'medium' 'medium' 'medium'\n",
            " 'medium' 'medium' 'medium' 'medium' 'medium' 'medium' 'medium' 'medium'\n",
            " 'medium' 'medium' 'medium' 'medium' 'medium' 'medium' 'medium' 'medium'\n",
            " 'medium' 'medium' 'medium' 'medium' 'medium' 'medium' 'medium' 'medium'\n",
            " 'medium' 'medium' 'medium' 'medium' 'medium' 'medium' 'medium' 'medium'\n",
            " 'medium' 'medium' 'medium' 'medium' 'medium' 'medium' 'medium' 'medium'\n",
            " 'medium' 'medium' 'medium' 'medium' 'medium' 'medium' 'medium' 'medium'\n",
            " 'medium' 'medium' 'medium' 'medium' 'medium' 'medium' 'medium' 'medium'\n",
            " 'medium' 'medium' 'medium' 'medium' 'medium' 'medium' 'medium' 'medium'\n",
            " 'medium' 'medium' 'medium' 'medium' 'medium' 'medium' 'medium' 'medium'\n",
            " 'medium' 'medium' 'medium' 'medium' 'medium' 'medium' 'medium' 'medium'\n",
            " 'medium' 'medium' 'medium' 'medium' 'medium' 'medium' 'medium' 'medium'\n",
            " 'medium' 'medium' 'medium' 'medium' 'medium' 'medium' 'medium' 'medium'\n",
            " 'medium' 'medium' 'medium' 'medium' 'medium' 'medium' 'medium' 'medium'\n",
            " 'medium' 'medium' 'medium' 'medium' 'medium' 'medium' 'medium' 'medium'\n",
            " 'medium' 'medium' 'medium' 'medium' 'medium' 'medium' 'medium' 'medium'\n",
            " 'medium' 'medium' 'medium' 'medium' 'medium' 'medium' 'medium' 'medium'\n",
            " 'medium' 'medium' 'medium' 'medium' 'medium' 'medium' 'medium' 'medium'\n",
            " 'medium' 'medium' 'medium' 'medium' 'medium' 'medium' 'medium' 'medium'\n",
            " 'medium' 'medium' 'medium' 'medium' 'medium' 'medium' 'medium' 'medium'\n",
            " 'medium' 'medium' 'medium' 'medium' 'medium' 'medium' 'medium' 'medium'\n",
            " 'medium' 'medium' 'medium' 'medium' 'medium' 'medium' 'medium' 'medium'\n",
            " 'medium' 'medium' 'medium' 'medium' 'medium' 'medium' 'medium' 'medium'\n",
            " 'medium' 'medium' 'medium' 'medium' 'medium' 'medium' 'medium']\n"
          ]
        }
      ]
    },
    {
      "cell_type": "markdown",
      "source": [
        "## Pengambilan Data Testing"
      ],
      "metadata": {
        "id": "VdgtdhTX4uN6"
      }
    },
    {
      "cell_type": "code",
      "source": [
        "dataset_test = pd.read_csv('milk_testing.csv')\n",
        "test_data = np.array(dataset_test)[:,:-1]\n",
        "print(test_data)\n",
        "test_label = np.array(dataset_test)[:,-1]\n",
        "print(test_label)"
      ],
      "metadata": {
        "id": "puu3mv8A32-c",
        "colab": {
          "base_uri": "https://localhost:8080/"
        },
        "outputId": "056696d1-1818-4644-b67f-69ae8b39e05c"
      },
      "execution_count": null,
      "outputs": [
        {
          "output_type": "stream",
          "name": "stdout",
          "text": [
            "[[6.8 45 1 ... 1 0 245]\n",
            " [6.6 37 1 ... 1 1 255]\n",
            " [6.7 38 1 ... 1 0 255]\n",
            " ...\n",
            " [6.5 37 0 ... 0 0 255]\n",
            " [6.5 40 1 ... 0 0 250]\n",
            " [6.7 45 1 ... 0 0 247]]\n",
            "['high' 'high' 'high' 'high' 'high' 'high' 'high' 'high' 'high' 'high'\n",
            " 'high' 'high' 'high' 'high' 'high' 'high' 'high' 'high' 'high' 'high'\n",
            " 'high' 'high' 'high' 'high' 'high' 'high' 'high' 'high' 'high' 'high'\n",
            " 'high' 'high' 'high' 'high' 'high' 'high' 'high' 'high' 'high' 'high'\n",
            " 'high' 'high' 'high' 'high' 'high' 'high' 'high' 'high' 'high' 'high'\n",
            " 'high' 'high' 'high' 'high' 'high' 'high' 'high' 'high' 'high' 'high'\n",
            " 'high' 'high' 'high' 'high' 'high' 'high' 'high' 'high' 'high' 'high'\n",
            " 'high' 'high' 'high' 'high' 'high' 'high' 'high' 'low' 'low' 'low' 'low'\n",
            " 'low' 'low' 'low' 'low' 'low' 'low' 'low' 'low' 'low' 'low' 'low' 'low'\n",
            " 'low' 'low' 'low' 'low' 'low' 'low' 'low' 'low' 'low' 'low' 'low' 'low'\n",
            " 'low' 'low' 'low' 'low' 'low' 'low' 'low' 'low' 'low' 'low' 'low' 'low'\n",
            " 'low' 'low' 'low' 'low' 'low' 'low' 'low' 'low' 'low' 'low' 'low' 'low'\n",
            " 'low' 'low' 'low' 'low' 'low' 'low' 'low' 'low' 'low' 'low' 'low' 'low'\n",
            " 'low' 'low' 'low' 'low' 'low' 'low' 'low' 'low' 'low' 'low' 'low' 'low'\n",
            " 'low' 'low' 'low' 'low' 'low' 'low' 'low' 'low' 'low' 'low' 'low' 'low'\n",
            " 'low' 'low' 'low' 'low' 'low' 'low' 'low' 'low' 'low' 'low' 'low' 'low'\n",
            " 'low' 'low' 'low' 'low' 'low' 'low' 'low' 'low' 'low' 'low' 'low' 'low'\n",
            " 'low' 'low' 'low' 'low' 'low' 'low' 'low' 'low' 'low' 'low' 'low' 'low'\n",
            " 'low' 'low' 'low' 'low' 'low' 'medium' 'medium' 'medium' 'medium'\n",
            " 'medium' 'medium' 'medium' 'medium' 'medium' 'medium' 'medium' 'medium'\n",
            " 'medium' 'medium' 'medium' 'medium' 'medium' 'medium' 'medium' 'medium'\n",
            " 'medium' 'medium' 'medium' 'medium' 'medium' 'medium' 'medium' 'medium'\n",
            " 'medium' 'medium' 'medium' 'medium' 'medium' 'medium' 'medium' 'medium'\n",
            " 'medium' 'medium' 'medium' 'medium' 'medium' 'medium' 'medium' 'medium'\n",
            " 'medium' 'medium' 'medium' 'medium' 'medium' 'medium' 'medium' 'medium'\n",
            " 'medium' 'medium' 'medium' 'medium' 'medium' 'medium' 'medium' 'medium'\n",
            " 'medium' 'medium' 'medium' 'medium' 'medium' 'medium' 'medium' 'medium'\n",
            " 'medium' 'medium' 'medium' 'medium' 'medium' 'medium' 'medium' 'medium'\n",
            " 'medium' 'medium' 'medium' 'medium' 'medium' 'medium' 'medium' 'medium'\n",
            " 'medium' 'medium' 'medium' 'medium' 'medium' 'medium' 'medium' 'medium'\n",
            " 'medium' 'medium' 'medium' 'medium' 'medium' 'medium' 'medium' 'medium'\n",
            " 'medium' 'medium' 'medium' 'medium' 'medium' 'medium' 'medium' 'medium'\n",
            " 'medium' 'medium' 'medium']\n"
          ]
        }
      ]
    },
    {
      "cell_type": "markdown",
      "source": [
        "## Naive Bayes"
      ],
      "metadata": {
        "id": "Jv-xBQkx5gRM"
      }
    },
    {
      "cell_type": "markdown",
      "source": [
        "### Gaussian NB"
      ],
      "metadata": {
        "id": "sh7eUg9_5pjV"
      }
    },
    {
      "cell_type": "code",
      "source": [
        "from sklearn.datasets import load_iris\n",
        "from sklearn.model_selection import train_test_split\n",
        "from sklearn.naive_bayes import GaussianNB\n",
        "gnb = GaussianNB()\n",
        "y_pred = gnb.fit(train_data_scaled, train_label).predict(test_data_scaled)\n",
        "print(y_pred)"
      ],
      "metadata": {
        "colab": {
          "base_uri": "https://localhost:8080/"
        },
        "id": "rCch9eYX5oLj",
        "outputId": "c4d91ca9-5f21-4a10-a499-02e76e477a10"
      },
      "execution_count": null,
      "outputs": [
        {
          "output_type": "stream",
          "name": "stdout",
          "text": [
            "['high' 'high' 'high' 'high' 'high' 'high' 'high' 'high' 'high' 'high'\n",
            " 'high' 'high' 'high' 'high' 'high' 'high' 'high' 'high' 'high' 'high'\n",
            " 'high' 'high' 'high' 'high' 'high' 'high' 'high' 'high' 'high' 'high'\n",
            " 'high' 'high' 'high' 'high' 'high' 'high' 'high' 'high' 'high' 'high'\n",
            " 'high' 'high' 'high' 'high' 'high' 'high' 'high' 'high' 'high' 'high'\n",
            " 'high' 'high' 'high' 'high' 'high' 'high' 'high' 'high' 'high' 'high'\n",
            " 'high' 'high' 'high' 'high' 'high' 'high' 'high' 'high' 'high' 'high'\n",
            " 'high' 'high' 'high' 'high' 'high' 'high' 'high' 'low' 'low' 'low' 'high'\n",
            " 'high' 'low' 'low' 'low' 'low' 'low' 'low' 'low' 'low' 'low' 'low' 'low'\n",
            " 'low' 'low' 'low' 'low' 'low' 'low' 'low' 'low' 'low' 'low' 'low' 'low'\n",
            " 'low' 'low' 'low' 'low' 'low' 'low' 'low' 'low' 'low' 'low' 'low' 'low'\n",
            " 'low' 'low' 'low' 'low' 'low' 'low' 'low' 'high' 'low' 'low' 'low' 'low'\n",
            " 'medium' 'low' 'low' 'low' 'low' 'low' 'low' 'low' 'low' 'low' 'low'\n",
            " 'low' 'medium' 'low' 'low' 'low' 'low' 'low' 'low' 'low' 'low' 'low'\n",
            " 'low' 'high' 'low' 'low' 'low' 'low' 'low' 'low' 'low' 'low' 'low' 'low'\n",
            " 'low' 'low' 'low' 'low' 'low' 'low' 'low' 'low' 'low' 'low' 'low' 'low'\n",
            " 'low' 'low' 'low' 'low' 'low' 'low' 'low' 'low' 'low' 'low' 'low' 'low'\n",
            " 'low' 'low' 'low' 'low' 'low' 'low' 'high' 'low' 'low' 'low' 'low'\n",
            " 'medium' 'low' 'low' 'low' 'low' 'low' 'low' 'low' 'medium' 'medium'\n",
            " 'medium' 'medium' 'medium' 'high' 'high' 'medium' 'medium' 'medium'\n",
            " 'medium' 'medium' 'medium' 'high' 'high' 'medium' 'medium' 'medium'\n",
            " 'medium' 'medium' 'medium' 'medium' 'medium' 'medium' 'medium' 'medium'\n",
            " 'medium' 'medium' 'medium' 'medium' 'medium' 'medium' 'medium' 'medium'\n",
            " 'medium' 'medium' 'medium' 'medium' 'medium' 'medium' 'medium' 'medium'\n",
            " 'medium' 'medium' 'medium' 'medium' 'medium' 'medium' 'medium' 'medium'\n",
            " 'medium' 'medium' 'medium' 'medium' 'medium' 'medium' 'medium' 'medium'\n",
            " 'medium' 'medium' 'high' 'medium' 'medium' 'medium' 'medium' 'medium'\n",
            " 'medium' 'medium' 'high' 'medium' 'medium' 'medium' 'medium' 'medium'\n",
            " 'medium' 'medium' 'medium' 'medium' 'medium' 'medium' 'medium' 'medium'\n",
            " 'medium' 'medium' 'medium' 'medium' 'medium' 'medium' 'medium' 'medium'\n",
            " 'medium' 'medium' 'medium' 'medium' 'medium' 'medium' 'medium' 'medium'\n",
            " 'medium' 'medium' 'medium' 'medium' 'medium' 'medium' 'medium' 'medium'\n",
            " 'medium' 'medium' 'medium' 'medium' 'medium']\n"
          ]
        }
      ]
    },
    {
      "cell_type": "markdown",
      "source": [
        "##### Menghitung Akurasi"
      ],
      "metadata": {
        "id": "UkntGuXmCVph"
      }
    },
    {
      "cell_type": "code",
      "source": [
        "from sklearn.metrics import accuracy_score\n",
        "akurasi = accuracy_score(test_label, bnb.predict(test_data))\n",
        "print(akurasi)"
      ],
      "metadata": {
        "colab": {
          "base_uri": "https://localhost:8080/"
        },
        "id": "Lk7_OdDUCU2Y",
        "outputId": "62db34b0-d7a2-4d3f-986d-722220dfcec9"
      },
      "execution_count": null,
      "outputs": [
        {
          "output_type": "stream",
          "name": "stdout",
          "text": [
            "0.6277602523659306\n"
          ]
        }
      ]
    },
    {
      "cell_type": "markdown",
      "source": [
        "### Multinomial NB"
      ],
      "metadata": {
        "id": "e3tYQooi5sCI"
      }
    },
    {
      "cell_type": "code",
      "source": [
        "import numpy as np\n",
        "rng = np.random.RandomState(1)\n",
        "from sklearn.naive_bayes import MultinomialNB\n",
        "mnb = MultinomialNB()\n",
        "mnb.fit(train_data, train_label)\n",
        "print(mnb.predict(test_data))"
      ],
      "metadata": {
        "colab": {
          "base_uri": "https://localhost:8080/"
        },
        "id": "nrjIcrbV50J7",
        "outputId": "bcb9af50-8156-491a-ca32-a1e3c8217106"
      },
      "execution_count": null,
      "outputs": [
        {
          "output_type": "stream",
          "name": "stdout",
          "text": [
            "['low' 'high' 'medium' 'low' 'high' 'medium' 'low' 'low' 'low' 'high'\n",
            " 'medium' 'high' 'medium' 'low' 'low' 'medium' 'low' 'low' 'low' 'low'\n",
            " 'high' 'medium' 'high' 'high' 'low' 'high' 'low' 'high' 'medium' 'medium'\n",
            " 'low' 'high' 'low' 'low' 'medium' 'high' 'medium' 'low' 'high' 'low'\n",
            " 'high' 'high' 'high' 'low' 'high' 'low' 'low' 'high' 'medium' 'high'\n",
            " 'high' 'medium' 'low' 'medium' 'medium' 'low' 'low' 'low' 'high' 'medium'\n",
            " 'high' 'medium' 'low' 'low' 'low' 'low' 'low' 'high' 'medium' 'high'\n",
            " 'high' 'low' 'high' 'low' 'high' 'medium' 'medium' 'low' 'low' 'low'\n",
            " 'low' 'low' 'low' 'low' 'medium' 'high' 'high' 'low' 'low' 'low' 'low'\n",
            " 'low' 'low' 'high' 'low' 'low' 'medium' 'high' 'low' 'low' 'low' 'low'\n",
            " 'low' 'low' 'low' 'high' 'low' 'low' 'medium' 'high' 'low' 'high' 'low'\n",
            " 'low' 'medium' 'high' 'low' 'high' 'low' 'medium' 'high' 'low' 'high'\n",
            " 'low' 'high' 'low' 'medium' 'high' 'low' 'medium' 'high' 'low' 'high'\n",
            " 'low' 'low' 'high' 'low' 'low' 'medium' 'low' 'high' 'low' 'low' 'high'\n",
            " 'low' 'medium' 'high' 'low' 'low' 'low' 'low' 'low' 'low' 'low' 'low'\n",
            " 'medium' 'high' 'high' 'low' 'low' 'low' 'low' 'low' 'low' 'high' 'low'\n",
            " 'low' 'medium' 'high' 'high' 'low' 'low' 'high' 'low' 'low' 'medium'\n",
            " 'high' 'low' 'high' 'low' 'low' 'high' 'low' 'medium' 'high' 'low' 'high'\n",
            " 'low' 'medium' 'high' 'low' 'high' 'low' 'high' 'low' 'medium' 'high'\n",
            " 'low' 'medium' 'high' 'low' 'high' 'low' 'low' 'high' 'low' 'low'\n",
            " 'medium' 'medium' 'medium' 'low' 'low' 'medium' 'medium' 'low' 'medium'\n",
            " 'medium' 'medium' 'low' 'low' 'medium' 'medium' 'low' 'medium' 'medium'\n",
            " 'medium' 'medium' 'medium' 'medium' 'low' 'medium' 'medium' 'medium'\n",
            " 'medium' 'low' 'medium' 'medium' 'medium' 'medium' 'medium' 'medium'\n",
            " 'medium' 'medium' 'low' 'medium' 'medium' 'medium' 'medium' 'medium'\n",
            " 'medium' 'medium' 'medium' 'low' 'medium' 'medium' 'medium' 'low'\n",
            " 'medium' 'medium' 'medium' 'low' 'medium' 'medium' 'medium' 'medium'\n",
            " 'low' 'low' 'medium' 'medium' 'medium' 'low' 'medium' 'medium' 'low'\n",
            " 'low' 'low' 'medium' 'medium' 'medium' 'medium' 'medium' 'low' 'medium'\n",
            " 'medium' 'medium' 'low' 'medium' 'medium' 'medium' 'medium' 'medium'\n",
            " 'medium' 'low' 'medium' 'medium' 'low' 'low' 'medium' 'medium' 'medium'\n",
            " 'medium' 'medium' 'medium' 'medium' 'medium' 'medium' 'medium' 'low'\n",
            " 'medium' 'medium' 'medium' 'medium' 'medium' 'medium' 'medium' 'medium'\n",
            " 'low']\n"
          ]
        }
      ]
    },
    {
      "cell_type": "markdown",
      "source": [
        "### Bernoulli NB"
      ],
      "metadata": {
        "id": "wFpDkZ2G5wwd"
      }
    },
    {
      "cell_type": "code",
      "source": [
        "import numpy as np\n",
        "from sklearn.naive_bayes import BernoulliNB\n",
        "bnb = BernoulliNB()\n",
        "bnb.fit(train_data, train_label)\n",
        "print(bnb.predict(test_data))"
      ],
      "metadata": {
        "colab": {
          "base_uri": "https://localhost:8080/"
        },
        "id": "Z64jQE_h50gX",
        "outputId": "af0c0dae-97d1-4c1a-e5f2-d9140c9eab9b"
      },
      "execution_count": null,
      "outputs": [
        {
          "output_type": "stream",
          "name": "stdout",
          "text": [
            "['high' 'high' 'medium' 'low' 'high' 'medium' 'low' 'low' 'high' 'high'\n",
            " 'medium' 'high' 'medium' 'low' 'low' 'medium' 'low' 'low' 'low' 'high'\n",
            " 'high' 'medium' 'high' 'high' 'high' 'high' 'high' 'high' 'medium'\n",
            " 'medium' 'low' 'high' 'low' 'high' 'medium' 'high' 'medium' 'low' 'high'\n",
            " 'low' 'high' 'high' 'low' 'high' 'high' 'low' 'high' 'high' 'medium'\n",
            " 'high' 'high' 'medium' 'low' 'medium' 'medium' 'low' 'low' 'high' 'high'\n",
            " 'medium' 'high' 'medium' 'low' 'low' 'low' 'low' 'high' 'high' 'medium'\n",
            " 'high' 'high' 'high' 'high' 'high' 'high' 'medium' 'medium' 'low' 'low'\n",
            " 'low' 'medium' 'high' 'medium' 'medium' 'medium' 'high' 'low' 'low' 'low'\n",
            " 'low' 'low' 'low' 'low' 'high' 'low' 'low' 'medium' 'high' 'low' 'low'\n",
            " 'low' 'low' 'low' 'low' 'low' 'high' 'low' 'low' 'medium' 'high' 'low'\n",
            " 'low' 'medium' 'medium' 'medium' 'high' 'low' 'high' 'low' 'medium'\n",
            " 'high' 'low' 'low' 'medium' 'low' 'medium' 'medium' 'high' 'low' 'medium'\n",
            " 'high' 'low' 'low' 'low' 'low' 'high' 'low' 'low' 'medium' 'low' 'low'\n",
            " 'medium' 'medium' 'high' 'low' 'medium' 'high' 'low' 'low' 'low' 'low'\n",
            " 'low' 'high' 'medium' 'medium' 'medium' 'high' 'low' 'low' 'low' 'low'\n",
            " 'low' 'low' 'low' 'low' 'medium' 'medium' 'medium' 'high' 'high' 'low'\n",
            " 'low' 'high' 'low' 'low' 'medium' 'high' 'low' 'low' 'medium' 'medium'\n",
            " 'high' 'low' 'medium' 'high' 'low' 'high' 'low' 'medium' 'high' 'low'\n",
            " 'low' 'medium' 'low' 'medium' 'medium' 'high' 'low' 'medium' 'high' 'low'\n",
            " 'low' 'low' 'low' 'high' 'low' 'low' 'medium' 'medium' 'medium' 'medium'\n",
            " 'high' 'medium' 'medium' 'low' 'medium' 'medium' 'medium' 'medium' 'high'\n",
            " 'medium' 'medium' 'low' 'medium' 'medium' 'medium' 'medium' 'low'\n",
            " 'medium' 'medium' 'medium' 'medium' 'medium' 'medium' 'low' 'medium'\n",
            " 'medium' 'medium' 'medium' 'medium' 'medium' 'medium' 'low' 'medium'\n",
            " 'medium' 'medium' 'medium' 'medium' 'medium' 'medium' 'medium' 'medium'\n",
            " 'medium' 'medium' 'medium' 'medium' 'medium' 'medium' 'medium' 'medium'\n",
            " 'low' 'medium' 'medium' 'medium' 'medium' 'medium' 'high' 'medium'\n",
            " 'medium' 'medium' 'low' 'medium' 'medium' 'medium' 'high' 'low' 'medium'\n",
            " 'medium' 'medium' 'low' 'medium' 'medium' 'medium' 'medium' 'medium'\n",
            " 'medium' 'medium' 'medium' 'medium' 'medium' 'low' 'medium' 'medium'\n",
            " 'medium' 'medium' 'low' 'low' 'medium' 'medium' 'medium' 'medium'\n",
            " 'medium' 'medium' 'medium' 'medium' 'medium' 'low' 'medium' 'medium'\n",
            " 'medium' 'medium' 'medium' 'medium' 'medium' 'medium' 'medium' 'medium']\n"
          ]
        }
      ]
    },
    {
      "cell_type": "markdown",
      "source": [
        "## normalisasi  data dengan metode min-max"
      ],
      "metadata": {
        "id": "XQMLD5wc9LUL"
      }
    },
    {
      "cell_type": "markdown",
      "source": [
        "### Train Data"
      ],
      "metadata": {
        "id": "IQk4Alqo95wB"
      }
    },
    {
      "cell_type": "code",
      "source": [
        "max_element_column = np.max(train_data, 0)\n",
        "min_element_column  = np.amin(train_data, 0)\n",
        "newmin = 0\n",
        "newmax = 1\n",
        "train_data_scaled = ((train_data - min_element_column)*(newmax-newmin)/(max_element_column - min_element_column)) + newmin\n",
        "print(train_data_scaled)"
      ],
      "metadata": {
        "colab": {
          "base_uri": "https://localhost:8080/"
        },
        "id": "id2GxzPB9g3p",
        "outputId": "840e87d6-4a09-468a-83ea-e1f3e0e83e40"
      },
      "execution_count": null,
      "outputs": [
        {
          "output_type": "stream",
          "name": "stdout",
          "text": [
            "[[0.5538461538461538 0.017857142857142856 1.0 ... 1.0 0.0\n",
            "  0.9333333333333333]\n",
            " [0.5538461538461538 0.03571428571428571 0.0 ... 0.0 1.0\n",
            "  0.8666666666666667]\n",
            " [0.5538461538461538 0.05357142857142857 1.0 ... 1.0 1.0 1.0]\n",
            " ...\n",
            " [0.5692307692307692 0.125 1.0 ... 0.0 0.0 0.4666666666666667]\n",
            " [0.5846153846153845 0.125 0.0 ... 0.0 0.0 1.0]\n",
            " [0.5846153846153845 0.07142857142857142 0.0 ... 0.0 0.0 1.0]]\n"
          ]
        }
      ]
    },
    {
      "cell_type": "markdown",
      "source": [
        "#### Test Data"
      ],
      "metadata": {
        "id": "mfg_QeyU98ge"
      }
    },
    {
      "cell_type": "code",
      "source": [
        "max_element_column = np.max(test_data, 0)\n",
        "min_element_column  = np.amin(test_data, 0)\n",
        "newmin = 0\n",
        "newmax = 1\n",
        "test_data_scaled = ((test_data - min_element_column)*(newmax-newmin)/(max_element_column - min_element_column)) + newmin\n",
        "print(test_data_scaled)"
      ],
      "metadata": {
        "colab": {
          "base_uri": "https://localhost:8080/"
        },
        "id": "AyRlcE_498Bk",
        "outputId": "e3af1de7-8694-4088-a7d1-556de29b3af9"
      },
      "execution_count": null,
      "outputs": [
        {
          "output_type": "stream",
          "name": "stdout",
          "text": [
            "[[0.5846153846153845 0.19642857142857142 1.0 ... 1.0 0.0\n",
            "  0.3333333333333333]\n",
            " [0.5538461538461538 0.05357142857142857 1.0 ... 1.0 1.0 1.0]\n",
            " [0.5692307692307692 0.07142857142857142 1.0 ... 1.0 0.0 1.0]\n",
            " ...\n",
            " [0.5384615384615384 0.05357142857142857 0.0 ... 0.0 0.0 1.0]\n",
            " [0.5384615384615384 0.10714285714285714 1.0 ... 0.0 0.0\n",
            "  0.6666666666666666]\n",
            " [0.5692307692307692 0.19642857142857142 1.0 ... 0.0 0.0\n",
            "  0.4666666666666667]]\n"
          ]
        }
      ]
    }
  ]
}