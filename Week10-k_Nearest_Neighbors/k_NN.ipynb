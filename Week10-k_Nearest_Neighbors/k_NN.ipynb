{
  "nbformat": 4,
  "nbformat_minor": 0,
  "metadata": {
    "colab": {
      "provenance": []
    },
    "kernelspec": {
      "name": "python3",
      "display_name": "Python 3"
    },
    "language_info": {
      "name": "python"
    }
  },
  "cells": [
    {
      "cell_type": "code",
      "execution_count": null,
      "metadata": {
        "id": "23eWbQlvmb9W"
      },
      "outputs": [],
      "source": [
        "import pandas as pd\n",
        "import numpy as np\n",
        "from sklearn.neighbors import KNeighborsClassifier"
      ]
    },
    {
      "cell_type": "code",
      "source": [
        "dataset = pd.read_csv('milk.csv')\n",
        "train_data = np.array(dataset)[:,:-1]\n",
        "print(train_data)\n",
        "train_label = np.array(dataset)[:,-1]\n",
        "print(train_label)"
      ],
      "metadata": {
        "colab": {
          "base_uri": "https://localhost:8080/"
        },
        "id": "wkVG533XoGXJ",
        "outputId": "bba920a4-fab7-4d01-bd86-003c8ca72c76"
      },
      "execution_count": null,
      "outputs": [
        {
          "output_type": "stream",
          "name": "stdout",
          "text": [
            "[[6.6 35 1 ... 1 0 254]\n",
            " [6.6 36 0 ... 0 1 253]\n",
            " [8.5 70 1 ... 1 1 246]\n",
            " ...\n",
            " [3.0 40 1 ... 1 1 255]\n",
            " [6.8 43 1 ... 1 0 250]\n",
            " [8.6 55 0 ... 1 1 255]]\n",
            "['high' 'high' 'low' ... 'low' 'high' 'low']\n"
          ]
        }
      ]
    },
    {
      "cell_type": "markdown",
      "source": [
        "#Metode Min-Max"
      ],
      "metadata": {
        "id": "GOwdwH5dooox"
      }
    },
    {
      "cell_type": "code",
      "source": [
        "from sklearn.preprocessing import MinMaxScaler\n",
        "\n",
        "sc = MinMaxScaler(feature_range=(0, 1))\n",
        "data = sc.fit_transform(train_data)\n",
        "print(data)"
      ],
      "metadata": {
        "colab": {
          "base_uri": "https://localhost:8080/"
        },
        "id": "XD7u6enUolWS",
        "outputId": "e641e964-34d5-4ef0-c6a5-7fa3b444169c"
      },
      "execution_count": null,
      "outputs": [
        {
          "output_type": "stream",
          "name": "stdout",
          "text": [
            "[[0.01785714 1.         0.         1.         0.         0.93333333]\n",
            " [0.03571429 0.         1.         0.         1.         0.86666667]\n",
            " [0.64285714 1.         1.         1.         1.         0.4       ]\n",
            " ...\n",
            " [0.10714286 1.         1.         1.         1.         1.        ]\n",
            " [0.16071429 1.         0.         1.         0.         0.66666667]\n",
            " [0.375      0.         1.         1.         1.         1.        ]]\n"
          ]
        }
      ]
    },
    {
      "cell_type": "markdown",
      "source": [
        "#k-NN input data test"
      ],
      "metadata": {
        "id": "KVpGUHcWpC70"
      }
    },
    {
      "cell_type": "code",
      "source": [
        "PH = input('PH: ')\n",
        "Temp = input('Temperature: ')\n",
        "Taste = input('Taste: ')\n",
        "Odor = input('Odor: ')\n",
        "Fat = input('Fat: ')\n",
        "Turbidity = input('Turbidity: ')\n",
        "Colour = input('Colour: ')\n",
        "\n",
        "test_data = np.array([float(PH),int(Temp),int(Taste),int(Odor),int(Fat),int(Turbidity),int(Colour)])\n",
        "print(test_data)"
      ],
      "metadata": {
        "colab": {
          "base_uri": "https://localhost:8080/"
        },
        "id": "ryB5Sc8PpEkd",
        "outputId": "481cf2be-ed83-4a9e-f627-14cb1bb99dd4"
      },
      "execution_count": null,
      "outputs": [
        {
          "output_type": "stream",
          "name": "stdout",
          "text": [
            "PH: 8.0\n",
            "Temperature: 40\n",
            "Taste: 1\n",
            "Odor: 0\n",
            "Fat: 1\n",
            "Turbidity: 0\n",
            "Colour: 250\n",
            "[  8.  40.   1.   0.   1.   0. 250.]\n"
          ]
        }
      ]
    },
    {
      "cell_type": "markdown",
      "source": [
        "#Proses k-NN"
      ],
      "metadata": {
        "id": "nQfJyo6jrj7c"
      }
    },
    {
      "cell_type": "code",
      "source": [
        "from sklearn.neighbors import KNeighborsClassifier\n",
        "\n",
        "kNN = KNeighborsClassifier(n_neighbors=3, weights='distance', metric='euclidean')\n",
        "kNN.fit(train_data, train_label)\n",
        "test_data = np.reshape(test_data, (1, -1))\n",
        "print(test_data)\n",
        "hasil = kNN.predict(test_data)\n",
        "print(\"Hasil dari k-NN : \", hasil)\n"
      ],
      "metadata": {
        "colab": {
          "base_uri": "https://localhost:8080/"
        },
        "id": "XNE3TPURriTH",
        "outputId": "9c08c723-8c20-4a22-ad3b-51c5fa3b860b"
      },
      "execution_count": null,
      "outputs": [
        {
          "output_type": "stream",
          "name": "stdout",
          "text": [
            "[[  8.  40.   1.   0.   1.   0. 250.]]\n",
            "Hasil dari k-NN :  ['medium']\n"
          ]
        }
      ]
    }
  ]
}