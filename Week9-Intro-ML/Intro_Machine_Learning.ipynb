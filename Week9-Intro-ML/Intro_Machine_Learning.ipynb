{
  "cells": [
    {
      "cell_type": "markdown",
      "source": [
        "# Introduction Machine Learning"
      ],
      "metadata": {
        "id": "bJDZ1BU81Qor"
      }
    },
    {
      "cell_type": "markdown",
      "source": [
        "## Import library & dataset (sport.csv)"
      ],
      "metadata": {
        "id": "-UPdQvHz1j-C"
      }
    },
    {
      "cell_type": "code",
      "execution_count": null,
      "metadata": {
        "colab": {
          "base_uri": "https://localhost:8080/"
        },
        "id": "YkIiFxwFFqXz",
        "outputId": "b4d8a0b5-5fec-49b2-e211-67234017f2b2"
      },
      "outputs": [
        {
          "output_type": "stream",
          "name": "stdout",
          "text": [
            "   Example    Sky  Temp Humidity    Wind Water Forecast EnjoySport\n",
            "0        1  Sunny  Warm   Normal  Strong  Warm     Same        Yes\n",
            "1        2  Sunny  Warm     High  Strong  Warm     Same        Yes\n",
            "2        3  Rainy  Cold     High  Strong  Warm   Change         No\n",
            "3        4  Sunny  Warm     High  Strong  Cool   Change        Yes\n"
          ]
        }
      ],
      "source": [
        "import pandas as pd\n",
        "import numpy as np\n",
        "\n",
        "\n",
        "dataset = pd.read_csv('sport.csv')\n",
        "\n",
        "print(dataset)"
      ]
    },
    {
      "cell_type": "markdown",
      "source": [
        "##format data to np array to make easy when we wany to get the data"
      ],
      "metadata": {
        "id": "9yJRC8Au1ro8"
      }
    },
    {
      "cell_type": "code",
      "execution_count": null,
      "metadata": {
        "colab": {
          "base_uri": "https://localhost:8080/"
        },
        "id": "J1Obbq35GcvB",
        "outputId": "e2af7ccb-a9ef-408d-84a6-4d36bd631638"
      },
      "outputs": [
        {
          "output_type": "stream",
          "name": "stdout",
          "text": [
            "[['Sunny' 'Warm' 'Normal' 'Strong' 'Warm' 'Same']\n",
            " ['Sunny' 'Warm' 'High' 'Strong' 'Warm' 'Same']\n",
            " ['Rainy' 'Cold' 'High' 'Strong' 'Warm' 'Change']\n",
            " ['Sunny' 'Warm' 'High' 'Strong' 'Cool' 'Change']]\n"
          ]
        }
      ],
      "source": [
        "datasetTraining = np.array(dataset)[:,1:-1]\n",
        "print(datasetTraining)"
      ]
    },
    {
      "cell_type": "markdown",
      "source": [
        "## get last data of row, that is class from dataset"
      ],
      "metadata": {
        "id": "qogvP06c135Q"
      }
    },
    {
      "cell_type": "code",
      "execution_count": null,
      "metadata": {
        "colab": {
          "base_uri": "https://localhost:8080/"
        },
        "id": "tESbF7JdHglq",
        "outputId": "c341be7e-99ad-4e10-e4ce-48090b0ae2f0"
      },
      "outputs": [
        {
          "output_type": "stream",
          "name": "stdout",
          "text": [
            "the target is: ['Yes' 'Yes' 'No' 'Yes']\n"
          ]
        }
      ],
      "source": [
        "target = np.array(dataset)[::,-1]\n",
        "print(\"the target is:\", target)"
      ]
    },
    {
      "cell_type": "markdown",
      "source": [
        "## Find-S algorithm to find hypothesis"
      ],
      "metadata": {
        "id": "hSI83H162E4I"
      }
    },
    {
      "cell_type": "code",
      "execution_count": null,
      "metadata": {
        "colab": {
          "base_uri": "https://localhost:8080/"
        },
        "id": "WeNN8wLDIOFz",
        "outputId": "03a8ebce-37fc-4628-c508-20f3b678ab69"
      },
      "outputs": [
        {
          "output_type": "stream",
          "name": "stdout",
          "text": [
            "['Sunny' 'Warm' 'High' 'Strong' 'Cool' 'Change']\n",
            "['Sunny' 'Warm' '?' 'Strong' '?' '?']\n"
          ]
        }
      ],
      "source": [
        "count = 0\n",
        "yesTargets = []\n",
        "\n",
        "for i in target:\n",
        "    if i == \"Yes\":\n",
        "        yesTarget = np.array(dataset)[count:count+1, 1:-1]\n",
        "        yesTargets.append(yesTarget.squeeze(axis=0))\n",
        "    count += 1\n",
        "\n",
        "yesTargets = np.array(yesTargets)\n",
        "hypotesys = yesTargets[:0:-1][0]\n",
        "\n",
        "print(hypotesys)\n",
        "for i in yesTargets:\n",
        "    for j in range(len(hypotesys)):\n",
        "        if hypotesys[j] != i[j]:\n",
        "          hypotesys[j] = '?'\n",
        "        else:\n",
        "          continue\n",
        "\n",
        "print(hypotesys)"
      ]
    },
    {
      "cell_type": "markdown",
      "source": [
        "## Dataset to check learning data"
      ],
      "metadata": {
        "id": "fEDDgS_J2tce"
      }
    },
    {
      "cell_type": "markdown",
      "source": [
        "### Dataset I"
      ],
      "metadata": {
        "id": "T4FxnMlu27YU"
      }
    },
    {
      "cell_type": "code",
      "execution_count": null,
      "metadata": {
        "colab": {
          "base_uri": "https://localhost:8080/"
        },
        "id": "XXE4-veQJ2iE",
        "outputId": "2d2e82eb-024a-44cc-e075-2b2e178c9bc7"
      },
      "outputs": [
        {
          "output_type": "stream",
          "name": "stdout",
          "text": [
            "['Sunny' 'Warm' 'Normal' 'Strong' 'Cool' 'Some']\n"
          ]
        }
      ],
      "source": [
        "newDataset = np.array(['Sunny', 'Warm', 'Normal', 'Strong', 'Cool', 'Some'])\n",
        "print(newDataset)"
      ]
    },
    {
      "cell_type": "markdown",
      "source": [
        "### Dataset II"
      ],
      "metadata": {
        "id": "R-0vsuYF21qF"
      }
    },
    {
      "cell_type": "code",
      "source": [
        "newDataset = np.array(['Rainy', 'Warm', 'Normal', 'Strong', 'Cool', 'Change'])\n",
        "print(newDataset)"
      ],
      "metadata": {
        "colab": {
          "base_uri": "https://localhost:8080/"
        },
        "id": "dDvRZBx-3AxB",
        "outputId": "23bd5b58-fb7b-4e91-9a08-9df27542a034"
      },
      "execution_count": null,
      "outputs": [
        {
          "output_type": "stream",
          "name": "stdout",
          "text": [
            "['Rainy' 'Warm' 'Normal' 'Strong' 'Cool' 'Change']\n"
          ]
        }
      ]
    },
    {
      "cell_type": "markdown",
      "source": [
        "###Check Algorithm"
      ],
      "metadata": {
        "id": "zSfcWLD83K77"
      }
    },
    {
      "cell_type": "code",
      "source": [
        "counter = 0\n",
        "cek = 1\n",
        "print(newDataset)\n",
        "print(hypotesys)\n",
        "for i in hypotesys:\n",
        "  if i == '?':\n",
        "    counter += 1\n",
        "\n",
        "    continue\n",
        "  else:\n",
        "    if newDataset[counter] == i:\n",
        "      cek = 0\n",
        "    else:\n",
        "      cek = 1\n",
        "      break\n",
        "  counter += 1\n",
        "\n",
        "if(cek == 0):\n",
        "  print('enjoy sport')\n",
        "else:\n",
        "  print('Dont Sport')"
      ],
      "metadata": {
        "colab": {
          "base_uri": "https://localhost:8080/"
        },
        "id": "ekQUGCcZxnxJ",
        "outputId": "814729bd-1dbd-4dea-ccbb-dcea9914a7f7"
      },
      "execution_count": null,
      "outputs": [
        {
          "output_type": "stream",
          "name": "stdout",
          "text": [
            "['Sunny' 'Warm' 'Normal' 'Strong' 'Cool' 'Some']\n",
            "['Sunny' 'Warm' '?' 'Strong' '?' '?']\n",
            "enjoy sport\n"
          ]
        }
      ]
    },
    {
      "cell_type": "markdown",
      "source": [],
      "metadata": {
        "id": "-rii9iJe1O_h"
      }
    }
  ],
  "metadata": {
    "colab": {
      "provenance": []
    },
    "kernelspec": {
      "display_name": "Python 3",
      "name": "python3"
    },
    "language_info": {
      "name": "python"
    }
  },
  "nbformat": 4,
  "nbformat_minor": 0
}